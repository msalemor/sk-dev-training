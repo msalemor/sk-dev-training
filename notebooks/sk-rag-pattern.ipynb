{
 "cells": [
  {
   "cell_type": "markdown",
   "metadata": {},
   "source": [
    "# SK RAG Pattern Foundational Concepts\n",
    "\n",
    "Learning objectives:\n",
    "\n",
    "- RAG pattern foundational concepts (igention, chucking, grounding, retrieval, LLM calling)\n",
    "- SK Memories with RAM or Sqlite as VectorDB\n",
    "\n",
    "Possible Memory Stores:\n",
    "- RAM\n",
    "- SQLite\n",
    "- PGVector\n",
    "\n",
    "## Setup\n",
    "\n",
    "### Load required .NET packages and supporting constants, classes, etc."
   ]
  },
  {
   "cell_type": "code",
   "execution_count": null,
   "metadata": {
    "dotnet_interactive": {
     "language": "csharp"
    },
    "polyglot_notebook": {
     "kernelName": "csharp"
    }
   },
   "outputs": [],
   "source": [
    "#r \"nuget: dotenv.net\"\n",
    "#r \"nuget: Microsoft.SemanticKernel, 1.47.0\"\n",
    "#r \"nuget: Microsoft.SemanticKernel.Connectors.AzureOpenAI, 1.47.0\"\n",
    "#r \"nuget: Microsoft.SemanticKernel.Plugins.Memory, 1.47.0-alpha\"\n",
    "#r \"nuget: Microsoft.SemanticKernel.Connectors.Sqlite, 1.47.0-alpha\"\n",
    "#r \"nuget: Microsoft.SemanticKernel.Connectors.Postgres, 1.47.0-alpha\"\n",
    "#r \"nuget: Npgsql\"\n",
    "\n",
    "#r \"nuget: dotenv.net\"\n",
    "\n",
    "using System;\n",
    "\n",
    "using System.IO;\n",
    "using System.Net.Http;\n",
    "using System.Text;\n",
    "using System.Text.RegularExpressions;\n",
    "using System.Text.Json;\n",
    "using System.Text.Json.Serialization;\n",
    "using Npgsql;\n",
    "using Microsoft.SemanticKernel;\n",
    "using Microsoft.SemanticKernel.Connectors.AzureOpenAI;\n",
    "using Microsoft.SemanticKernel.Connectors.Sqlite;\n",
    "using Microsoft.SemanticKernel.Connectors.Postgres;\n",
    "using Microsoft.SemanticKernel.Memory;\n",
    "using Microsoft.SemanticKernel.Plugins.Memory;\n",
    "\n",
    "using dotenv.net;\n",
    "using InteractiveKernel = Microsoft.DotNet.Interactive.Kernel;\n",
    "\n",
    "#!import Models/Models.cs\n",
    "\n",
    "const string MemoryCollectionName = \"LearningsCollection\";\n",
    "\n",
    "#pragma warning disable CS8618,IDE0009,CA1051,CA1050,CA1707,CA2007,VSTHRD111,CS1591,RCS1110,CA5394,SKEXP0001,SKEXP0002,SKEXP0003\n",
    "#pragma warning disable SKEXP0004,SKEXP0010,SKEXP0011,SKEXP0012,SKEXP0020,SKEXP0021,SKEXP0022,SKEXP0023,SKEXP0024,SKEXP0025\n",
    "#pragma warning disable SKEXP0026,SKEXP0027,SKEXP0028,SKEXP0029,SKEXP0030,SKEXP0031,SKEXP0032,SKEXP0040,SKEXP0041,SKEXP0042,SKEXP0050,\n",
    "#pragma warning disable SKEXP0051,SKEXP0052,SKEXP0053,SKEXP0054,SKEXP0055,SKEXP0060,SKEXP0061,SKEXP0101,SKEXP0102\n"
   ]
  },
  {
   "cell_type": "markdown",
   "metadata": {},
   "source": [
    "### Read the API Key and endpoints from environment variables or the .env file"
   ]
  },
  {
   "cell_type": "code",
   "execution_count": null,
   "metadata": {
    "dotnet_interactive": {
     "language": "csharp"
    },
    "polyglot_notebook": {
     "kernelName": "csharp"
    }
   },
   "outputs": [],
   "source": [
    "// Load the .env file\n",
    "DotEnv.Load();\n",
    "\n",
    "// Get the OpenAI deployment name, endpoint, and key from the environment variables\n",
    "var deploymentName = Environment.GetEnvironmentVariable(\"GPT_OPENAI_DEPLOYMENT_NAME\");\n",
    "var endpoint = Environment.GetEnvironmentVariable(\"GPT_OPENAI_ENDPOINT\");\n",
    "var apiKey = Environment.GetEnvironmentVariable(\"GPT_OPENAI_KEY\");\n",
    "var pg_conn_str = Environment.GetEnvironmentVariable(\"PG_CONN_STR\");\n",
    "var adaDeploymentName = Environment.GetEnvironmentVariable(\"GPT_EMBEDDING_MODEL\");"
   ]
  },
  {
   "cell_type": "markdown",
   "metadata": {},
   "source": [
    "### Configure the Kernel and memory"
   ]
  },
  {
   "cell_type": "code",
   "execution_count": null,
   "metadata": {
    "polyglot_notebook": {
     "kernelName": "csharp"
    }
   },
   "outputs": [],
   "source": [
    "// Note: Added this because I am having problems with SSL certificate validation\n",
    "var handler = new HttpClientHandler();\n",
    "handler.CheckCertificateRevocationList = false;\n",
    "var httpClient = new HttpClient(handler);"
   ]
  },
  {
   "cell_type": "code",
   "execution_count": null,
   "metadata": {
    "polyglot_notebook": {
     "kernelName": "csharp"
    }
   },
   "outputs": [],
   "source": [
    "#pragma warning disable SKEXP0010\n",
    "var kernel = Kernel.CreateBuilder()\n",
    "    .AddAzureOpenAIChatCompletion(\n",
    "        deploymentName: deploymentName,\n",
    "        endpoint: endpoint,\n",
    "        apiKey: apiKey,\n",
    "        httpClient: httpClient)\n",
    "    .AddAzureOpenAITextEmbeddingGeneration(adaDeploymentName, endpoint, apiKey, httpClient: httpClient)\n",
    "    .Build();"
   ]
  },
  {
   "cell_type": "code",
   "execution_count": null,
   "metadata": {
    "dotnet_interactive": {
     "language": "csharp"
    },
    "polyglot_notebook": {
     "kernelName": "csharp"
    }
   },
   "outputs": [],
   "source": [
    "#pragma warning disable SKEXP0050,SKEXP0010,SKEXP0001\n",
    "var ramStore = new Microsoft.SemanticKernel.Memory.VolatileMemoryStore();\n",
    "\n",
    "var embeddingGenerator = new AzureOpenAITextEmbeddingGenerationService(\n",
    "            deploymentName: adaDeploymentName,\n",
    "            endpoint: endpoint,\n",
    "            apiKey: apiKey);\n",
    "\n",
    "var memory = new MemoryBuilder()\n",
    "            .WithTextEmbeddingGeneration(embeddingGenerator)\n",
    "            .WithMemoryStore(new Microsoft.SemanticKernel.Memory.VolatileMemoryStore())\n",
    "            .Build();"
   ]
  },
  {
   "cell_type": "markdown",
   "metadata": {},
   "source": [
    "### Configure the memory store\n",
    "\n",
    "One of the amazing features of SK is that, for the memory store object it implements an interface. This means that you can quickly swap memory stores like sqlite, Redis, PostgreSQL, etc. or create a new store as long as it implements the interface.\n",
    "\n",
    "Below you can see different stores. This notebook is using VolatileMemory (RAM)\n",
    "```c#\n",
    "//var memoryStore = await Microsoft.SemanticKernel.Connectors.Postgres.PostgresMemoryStore(\"Host=localhost;Port=5432;Username=postgres;Password=postgres;Database=postgres\");\n",
    "//var memoryStore = await SqliteMemoryStore.ConnectAsync(\"./vectors.sqlite\");\n",
    "//NpgsqlDataSourceBuilder dataSourceBuilder = new(pg_conn_str);\n",
    "//dataSourceBuilder.UseVector();\n",
    "//NpgsqlDataSource dataSource = dataSourceBuilder.Build();\n",
    "//IMemoryStore memoryStore = new PostgresMemoryStore(dataSource, vectorSize: 1536, schema: \"public\");\n",
    "```"
   ]
  },
  {
   "cell_type": "code",
   "execution_count": null,
   "metadata": {
    "dotnet_interactive": {
     "language": "csharp"
    },
    "polyglot_notebook": {
     "kernelName": "csharp"
    }
   },
   "outputs": [],
   "source": [
    "// Using VolatileMemory, but I can switch providers like Azure Search, DuckDB, SQLite, etc.\n",
    "#pragma warning disable SKEXP0050\n",
    "var memoryStore = new Microsoft.SemanticKernel.Memory.VolatileMemoryStore();\n",
    "memoryStore"
   ]
  },
  {
   "cell_type": "markdown",
   "metadata": {},
   "source": [
    "### Configure the text memory"
   ]
  },
  {
   "cell_type": "code",
   "execution_count": null,
   "metadata": {
    "dotnet_interactive": {
     "language": "csharp"
    },
    "polyglot_notebook": {
     "kernelName": "csharp"
    }
   },
   "outputs": [],
   "source": [
    "#pragma warning disable SKEXP0001\n",
    "Microsoft.SemanticKernel.Memory.SemanticTextMemory textMemory = new(memoryStore, embeddingGenerator);\n",
    "textMemory"
   ]
  },
  {
   "cell_type": "markdown",
   "metadata": {},
   "source": [
    "## Ingestion\n",
    "\n",
    "### Read and deserialize the JSON learnings data file"
   ]
  },
  {
   "cell_type": "code",
   "execution_count": null,
   "metadata": {
    "dotnet_interactive": {
     "language": "csharp"
    },
    "polyglot_notebook": {
     "kernelName": "csharp"
    }
   },
   "outputs": [],
   "source": [
    "var jsonFileContents = File.ReadAllText(\"data/learnings.json\");\n",
    "var learnings = System.Text.Json.JsonSerializer.Deserialize<List<Learning>>(jsonFileContents);\n",
    "learnings"
   ]
  },
  {
   "cell_type": "markdown",
   "metadata": {},
   "source": [
    "### Chunk the learnings & recommendations\n",
    "\n",
    "**Note:** This is a simple chunker. It chunks by splitting the document into paragraphs. A more realistic chunker would try to optimize the token size limit, chunking smartly (not in the a middle of a paragraph or sentence), etc."
   ]
  },
  {
   "cell_type": "code",
   "execution_count": null,
   "metadata": {
    "dotnet_interactive": {
     "language": "csharp"
    },
    "polyglot_notebook": {
     "kernelName": "csharp"
    }
   },
   "outputs": [],
   "source": [
    "// Keep a list of chunks\n",
    "var chunks = new List<Chunk>();\n",
    "\n",
    "// For each learning process the chunks\n",
    "foreach(var learning in learnings)\n",
    "{\n",
    "    // Break the learnings into paragraphs\n",
    "    var paragraphs = learning.Content.Split(\"\\n\\n\");\n",
    "    \n",
    "    // For each paragraph create a chunk\n",
    "    for(var i=0;i<paragraphs.Length;i++)\n",
    "    {\n",
    "        // Add the chunk to the list\n",
    "        chunks.Add(new Chunk(learning.Id+\"-\"+(i+1),paragraphs[i],\"data/learnings.json\"));\n",
    "    }\n",
    "}\n",
    "chunks"
   ]
  },
  {
   "cell_type": "markdown",
   "metadata": {},
   "source": [
    "### Save every chunk as a memory"
   ]
  },
  {
   "cell_type": "code",
   "execution_count": null,
   "metadata": {
    "dotnet_interactive": {
     "language": "csharp"
    },
    "polyglot_notebook": {
     "kernelName": "csharp"
    }
   },
   "outputs": [],
   "source": [
    "// Create an embedding generator to use for semantic memory.\n",
    "foreach(var chunk in chunks)\n",
    "{    \n",
    "    await textMemory.SaveInformationAsync(MemoryCollectionName, id: chunk.Id, text: chunk.Text);\n",
    "}"
   ]
  },
  {
   "cell_type": "markdown",
   "metadata": {},
   "source": [
    "## Grounding\n",
    "\n",
    "### Retrieve the memory based on a query"
   ]
  },
  {
   "cell_type": "code",
   "execution_count": null,
   "metadata": {
    "dotnet_interactive": {
     "language": "csharp"
    },
    "polyglot_notebook": {
     "kernelName": "csharp"
    }
   },
   "outputs": [],
   "source": [
    "//var query = await InteractiveKernel.GetInputAsync(\"What is your query?\");\n",
    "var question = \"What scenario is FrontDoor good for?\";\n",
    "\n",
    "#pragma warning disable SKEXP0001\n",
    "IAsyncEnumerable<MemoryQueryResult> queryResults =\n",
    "                textMemory.SearchAsync(MemoryCollectionName, question, limit: 3, minRelevanceScore: 0.1);"
   ]
  },
  {
   "cell_type": "markdown",
   "metadata": {},
   "source": [
    "\n",
    "### Find memories based on query, and collect the text in the memories to augment the prompt"
   ]
  },
  {
   "cell_type": "code",
   "execution_count": null,
   "metadata": {
    "dotnet_interactive": {
     "language": "csharp"
    },
    "polyglot_notebook": {
     "kernelName": "csharp"
    }
   },
   "outputs": [],
   "source": [
    "// Keep the text for the recalled memories\n",
    "StringBuilder memoryText = new StringBuilder();\n",
    "\n",
    "#pragma warning disable SKEXP0001\n",
    "await foreach (MemoryQueryResult r in queryResults)\n",
    "{\n",
    "    // Append the text\n",
    "    memoryText.Append(r.Metadata.Text+\"\\n\\n\");\n",
    "}\n",
    "\n",
    "// Final augmented text\n",
    "var promptContext = memoryText.ToString();\n",
    "Console.WriteLine($\"User:\\n{question}\\n\\nNearest results:\\n{promptContext}\")"
   ]
  },
  {
   "cell_type": "markdown",
   "metadata": {},
   "source": [
    "## Process Prompt & Completion"
   ]
  },
  {
   "cell_type": "markdown",
   "metadata": {},
   "source": [
    "### Create a SK function"
   ]
  },
  {
   "cell_type": "code",
   "execution_count": null,
   "metadata": {
    "dotnet_interactive": {
     "language": "csharp"
    },
    "polyglot_notebook": {
     "kernelName": "csharp"
    }
   },
   "outputs": [],
   "source": [
    "const string promptTemplate = \"{{$input}}\\n\\nText:\\n\\\"\\\"\\\"{{$context}}\\n\\\"\\\"\\\"Use only the provided text.\";\n",
    "var skPromptTemplateFunction = kernel.CreateFunctionFromPrompt(promptTemplate);"
   ]
  },
  {
   "cell_type": "markdown",
   "metadata": {},
   "source": [
    "### Submit the prompt with the orignal questions, retrieved chunks, and print the results"
   ]
  },
  {
   "cell_type": "code",
   "execution_count": null,
   "metadata": {
    "dotnet_interactive": {
     "language": "csharp"
    },
    "polyglot_notebook": {
     "kernelName": "csharp"
    }
   },
   "outputs": [],
   "source": [
    "var arguments = new KernelArguments()\n",
    "        {\n",
    "            [\"input\"] = question,\n",
    "            [\"context\"] = promptContext\n",
    "        };\n",
    "var result = await kernel.InvokeAsync(skPromptTemplateFunction, arguments);\n",
    "\n",
    "Console.WriteLine(result);"
   ]
  }
 ],
 "metadata": {
  "kernelspec": {
   "display_name": ".NET (C#)",
   "language": "C#",
   "name": ".net-csharp"
  },
  "language_info": {
   "name": "polyglot-notebook"
  },
  "polyglot_notebook": {
   "kernelInfo": {
    "defaultKernelName": "csharp",
    "items": [
     {
      "aliases": [],
      "languageName": "csharp",
      "name": "csharp"
     }
    ]
   }
  }
 },
 "nbformat": 4,
 "nbformat_minor": 2
}
