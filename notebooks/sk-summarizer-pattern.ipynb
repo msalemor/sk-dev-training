{
 "cells": [
  {
   "cell_type": "markdown",
   "metadata": {},
   "source": [
    "# SK Summarizer Pattern\n",
    "\n",
    "Learning objectives:\n",
    "\n",
    "- Understand a simple Summarization Implementation\n",
    "\n",
    "## Setup\n",
    "\n",
    "### Load required .NET packages and supporting constants, classes, etc."
   ]
  },
  {
   "cell_type": "code",
   "execution_count": null,
   "metadata": {
    "dotnet_interactive": {
     "language": "csharp"
    },
    "polyglot_notebook": {
     "kernelName": "csharp"
    }
   },
   "outputs": [],
   "source": [
    "#r \"nuget: dotenv.net\"\n",
    "#r \"nuget: Microsoft.SemanticKernel, 1.47.0\"\n",
    "#r \"nuget: Microsoft.SemanticKernel.Connectors.AzureOpenAI, 1.47.0\"\n",
    "\n",
    "\n",
    "using System;\n",
    "using System.IO;\n",
    "using System.Net.Http;\n",
    "using System.Text;\n",
    "using System.Text.RegularExpressions;\n",
    "using System.Text.Json;\n",
    "using System.Text.Json.Serialization;\n",
    "using Microsoft.SemanticKernel;\n",
    "using Microsoft.SemanticKernel.Connectors.AzureOpenAI;\n",
    "using dotenv.net;\n",
    "\n",
    "#!import Models/Models.cs\n",
    "#!import Utils/TextChunker.cs\n",
    "#!import Templates/Templates.cs\n",
    "\n",
    "const int ChunkSize = 1000;\n",
    "const int MaxTokens = 1500;\n",
    "const double Temperature = 0.3;"
   ]
  },
  {
   "cell_type": "markdown",
   "metadata": {},
   "source": [
    "### Read the API Key and endpoints from environment variables or the .env file"
   ]
  },
  {
   "cell_type": "code",
   "execution_count": null,
   "metadata": {
    "dotnet_interactive": {
     "language": "csharp"
    },
    "polyglot_notebook": {
     "kernelName": "csharp"
    }
   },
   "outputs": [],
   "source": [
    "DotEnv.Load();\n",
    "var deploymentName = Environment.GetEnvironmentVariable(\"GPT_OPENAI_DEPLOYMENT_NAME\");\n",
    "var endpoint = Environment.GetEnvironmentVariable(\"GPT_OPENAI_ENDPOINT\");\n",
    "var apiKey = Environment.GetEnvironmentVariable(\"GPT_OPENAI_KEY\");\n",
    "var adaDeploymentName = \"ada\";\n",
    "var checkKeyAndEndpoint = $\"Endpoint: {endpoint}{deploymentName} with key {apiKey.Substring(0, 5)}...\";\n",
    "checkKeyAndEndpoint"
   ]
  },
  {
   "cell_type": "markdown",
   "metadata": {},
   "source": [
    "### Get a Semantic Kernel instance configured for Chat completions"
   ]
  },
  {
   "cell_type": "code",
   "execution_count": null,
   "metadata": {
    "dotnet_interactive": {
     "language": "csharp"
    },
    "polyglot_notebook": {
     "kernelName": "csharp"
    }
   },
   "outputs": [],
   "source": [
    "// Note: Added this because I am having problems with SSL certificate validation\n",
    "var handler = new HttpClientHandler();\n",
    "handler.CheckCertificateRevocationList = false;\n",
    "var httpClient = new HttpClient(handler);\n",
    "\n",
    "var kernel = Kernel.CreateBuilder()\n",
    "    .AddAzureOpenAIChatCompletion(deploymentName, endpoint, apiKey, httpClient:httpClient)\n",
    "    .Build();"
   ]
  },
  {
   "cell_type": "markdown",
   "metadata": {},
   "source": [
    "## Ingestion\n",
    "\n",
    "### Read transcript from a file"
   ]
  },
  {
   "cell_type": "code",
   "execution_count": null,
   "metadata": {
    "dotnet_interactive": {
     "language": "csharp"
    },
    "polyglot_notebook": {
     "kernelName": "csharp"
    }
   },
   "outputs": [],
   "source": [
    "var text = File.ReadAllText(\"data/transcript.txt\");\n",
    "text"
   ]
  },
  {
   "cell_type": "markdown",
   "metadata": {},
   "source": [
    "## Chunk the text"
   ]
  },
  {
   "cell_type": "code",
   "execution_count": null,
   "metadata": {
    "dotnet_interactive": {
     "language": "csharp"
    },
    "polyglot_notebook": {
     "kernelName": "csharp"
    }
   },
   "outputs": [],
   "source": [
    "var chunks = TextChunker.ChunkText(text, ChunkSize);\n",
    "chunks"
   ]
  },
  {
   "cell_type": "markdown",
   "metadata": {},
   "source": [
    "## Process the chunk summaries"
   ]
  },
  {
   "cell_type": "code",
   "execution_count": null,
   "metadata": {
    "dotnet_interactive": {
     "language": "csharp"
    },
    "polyglot_notebook": {
     "kernelName": "csharp"
    }
   },
   "outputs": [],
   "source": [
    "foreach(var chunk in chunks)\n",
    "{\n",
    "    // REMINDER: Templates are in the Templates/Templates.cs file\n",
    "    var prompt = SummaryTemplate.Replace(\"{context}\", chunk.Content);\n",
    "    // Create a fixed SK function\n",
    "    var fixedFunction = kernel.CreateFunctionFromPrompt(prompt);\n",
    "    // Run the function\n",
    "    var result = await kernel.InvokeAsync(fixedFunction);\n",
    "    chunk.Summary = result.ToString();\n",
    "}\n",
    "chunks"
   ]
  },
  {
   "cell_type": "markdown",
   "metadata": {},
   "source": [
    "## Final summary - Summary of summaries"
   ]
  },
  {
   "cell_type": "code",
   "execution_count": null,
   "metadata": {
    "dotnet_interactive": {
     "language": "csharp"
    },
    "polyglot_notebook": {
     "kernelName": "csharp"
    }
   },
   "outputs": [],
   "source": [
    "var augmentedContext = new StringBuilder();\n",
    "\n",
    "foreach(var chunk in chunks)\n",
    "{\n",
    "    augmentedContext.Append(chunk.Summary+\"\\n\\n\");    \n",
    "}\n",
    "\n",
    "// REMINDER: Templates are in the Templates/Templates.cs file\n",
    "var funcTemplate = FinalSummaryTemplate.Replace(\"{context}\", augmentedContext.ToString());\n",
    "\n",
    "// Create a Prompt SK function from the template\n",
    "var fixedFunction = kernel.CreateFunctionFromPrompt(funcTemplate,new AzureOpenAIPromptExecutionSettings() { MaxTokens = MaxTokens, Temperature = Temperature, TopP = 1 });\n",
    "\n",
    "// Run the function\n",
    "var result = await kernel.InvokeAsync(fixedFunction);\n",
    "result.ToString()"
   ]
  }
 ],
 "metadata": {
  "kernelspec": {
   "display_name": ".NET (C#)",
   "language": "C#",
   "name": ".net-csharp"
  },
  "language_info": {
   "name": "polyglot-notebook"
  },
  "polyglot_notebook": {
   "kernelInfo": {
    "defaultKernelName": "csharp",
    "items": [
     {
      "aliases": [],
      "languageName": "csharp",
      "name": "csharp"
     }
    ]
   }
  }
 },
 "nbformat": 4,
 "nbformat_minor": 2
}
