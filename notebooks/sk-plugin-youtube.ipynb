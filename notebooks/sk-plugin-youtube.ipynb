{
 "cells": [
  {
   "cell_type": "markdown",
   "metadata": {},
   "source": [
    "# SK Youtube Plugin\n",
    "\n",
    "## Setup\n",
    "\n",
    "### Load required .NET packages and supporting constants, classes, etc."
   ]
  },
  {
   "cell_type": "code",
   "execution_count": 1,
   "metadata": {
    "dotnet_interactive": {
     "language": "csharp"
    },
    "polyglot_notebook": {
     "kernelName": "csharp"
    }
   },
   "outputs": [
    {
     "data": {
      "text/html": [
       "<div><div></div><div></div><div><strong>Installed Packages</strong><ul><li><span>dotenv.net, 3.2.1</span></li><li><span>Microsoft.SemanticKernel, 1.49.0</span></li><li><span>Microsoft.SemanticKernel.Connectors.AzureOpenAI, 1.49.0</span></li><li><span>System.Linq.Async, 6.0.1</span></li><li><span>YoutubeExplode, 6.5.0</span></li></ul></div></div>"
      ]
     },
     "metadata": {},
     "output_type": "display_data"
    }
   ],
   "source": [
    "#r \"nuget: dotenv.net\"\n",
    "#r \"nuget: Microsoft.SemanticKernel, 1.49.0\"\n",
    "#r \"nuget: Microsoft.SemanticKernel.Connectors.AzureOpenAI, 1.49.0\"\n",
    "#r \"nuget: System.Linq.Async, 6.0.1\"\n",
    "#r \"nuget: YoutubeExplode, 6.5.0\"\n",
    "\n",
    "#r \"nuget: dotenv.net\"\n",
    "\n",
    "using System;\n",
    "\n",
    "using System.IO;\n",
    "using System.Net.Http;\n",
    "using System.Text;\n",
    "using System.Text.RegularExpressions;\n",
    "using System.Text.Json;\n",
    "using System.Text.Json.Serialization;\n",
    "using Microsoft.SemanticKernel;\n",
    "using Microsoft.SemanticKernel.ChatCompletion;\n",
    "using Microsoft.SemanticKernel.Connectors.AzureOpenAI;\n",
    "using System.ComponentModel;\n",
    "using System.Threading;\n",
    "using YoutubeExplode;\n",
    "using YoutubeExplode.Common;\n",
    "\n",
    "using dotenv.net;\n",
    "using InteractiveKernel = Microsoft.DotNet.Interactive.Kernel;\n",
    "\n",
    "#pragma warning disable CS8618,IDE0009,CA1051,CA1050,CA1707,CA2007,VSTHRD111,CS1591,RCS1110,CA5394,SKEXP0001,SKEXP0002,SKEXP0003\n",
    "#pragma warning disable SKEXP0004,SKEXP0010,SKEXP0011,SKEXP0012,SKEXP0020,SKEXP0021,SKEXP0022,SKEXP0023,SKEXP0024,SKEXP0025\n",
    "#pragma warning disable SKEXP0026,SKEXP0027,SKEXP0028,SKEXP0029,SKEXP0030,SKEXP0031,SKEXP0032,SKEXP0040,SKEXP0041,SKEXP0042,SKEXP0050,\n",
    "#pragma warning disable SKEXP0051,SKEXP0052,SKEXP0053,SKEXP0054,SKEXP0055,SKEXP0060,SKEXP0061,SKEXP0101,SKEXP0102\n"
   ]
  },
  {
   "cell_type": "markdown",
   "metadata": {},
   "source": [
    "### Read the API Key and endpoints from environment variables or the .env file"
   ]
  },
  {
   "cell_type": "code",
   "execution_count": 2,
   "metadata": {
    "dotnet_interactive": {
     "language": "csharp"
    },
    "polyglot_notebook": {
     "kernelName": "csharp"
    }
   },
   "outputs": [],
   "source": [
    "// Load the .env file\n",
    "DotEnv.Load();\n",
    "\n",
    "// Get the OpenAI deployment name, endpoint, and key from the environment variables\n",
    "var deploymentName = Environment.GetEnvironmentVariable(\"GPT_OPENAI_DEPLOYMENT_NAME\");\n",
    "var endpoint = Environment.GetEnvironmentVariable(\"GPT_OPENAI_ENDPOINT\");\n",
    "var apiKey = Environment.GetEnvironmentVariable(\"GPT_OPENAI_KEY\");\n",
    "var pg_conn_str = Environment.GetEnvironmentVariable(\"PG_CONN_STR\");\n",
    "var adaDeploymentName = Environment.GetEnvironmentVariable(\"GPT_EMBEDDING_MODEL\");"
   ]
  },
  {
   "cell_type": "markdown",
   "metadata": {},
   "source": [
    "### Define the lights plugin"
   ]
  },
  {
   "cell_type": "code",
   "execution_count": 3,
   "metadata": {
    "polyglot_notebook": {
     "kernelName": "csharp"
    }
   },
   "outputs": [],
   "source": [
    "record YouTubeVideo(string Title, string Url);\n",
    "class YouTubePlugin\n",
    "{\n",
    "    [KernelFunction(\"get_youtube_video_captions\")]\n",
    "    [Description(\"Gets the English captions of a YouTube video\")]\n",
    "    [return: Description(\"The English captions of the YouTube video\")]\n",
    "    public async Task<string> GetVideoCaptionsAsync(\n",
    "    [Description(\"The URL of the YouTube video\")]\n",
    "    string videoUrl, \n",
    "    CancellationToken cancellationToken)\n",
    "    {\n",
    "        // Create a YoutubeClient instance\n",
    "        YoutubeClient youtube = new();\n",
    "        var trackManifest = await youtube.Videos.ClosedCaptions.GetManifestAsync(videoUrl, cancellationToken);\n",
    "        var trackInfo = trackManifest.GetByLanguage(\"en\");\n",
    "        var track = await youtube.Videos.ClosedCaptions.GetAsync(trackInfo, cancellationToken);\n",
    "\n",
    "        StringBuilder sb = new();\n",
    "        foreach (var caption in track.Captions)\n",
    "        {\n",
    "            sb.AppendLine(caption.Text);\n",
    "        }\n",
    "        \n",
    "        return sb.ToString();\n",
    "    }\n",
    "\n",
    "    [KernelFunction(\"get_youtube_videos\")]\n",
    "    [Description(\"Gets the list of youtube videos from a channel given the channel's handle.\")]\n",
    "    [return: Description(\"The collection of YouTube videos that have been uploaded to the YouTube channel.\")]\n",
    "    public async Task<IReadOnlyList<YouTubeVideo>> GetVideosAsync(\n",
    "    [Description(\"The channel's handle (e.g. @channelname)\")]\n",
    "    string channelHandle, \n",
    "    CancellationToken cancellationToken)\n",
    "    {\n",
    "        // Create a YoutubeClient instance\n",
    "        YoutubeClient youtube = new();   \n",
    "        channelHandle = channelHandle.TrimStart('@');\n",
    "        var channel = await youtube.Channels.GetByHandleAsync(new YoutubeExplode.Channels.ChannelHandle(channelHandle), cancellationToken);\n",
    "        var videos = await youtube.Channels\n",
    "            .GetUploadsAsync(channel.Id, cancellationToken)\n",
    "            .Where(x=>x.Duration> TimeSpan.FromMinutes(60))\n",
    "            .Take(10)\n",
    "            .ToArrayAsync(cancellationToken);\n",
    "        return videos\n",
    "        .Select(x=>new YouTubeVideo(x.Title,x.Url))\n",
    "        .ToArray();\n",
    "    }\n",
    "    \n",
    "}\n"
   ]
  },
  {
   "cell_type": "markdown",
   "metadata": {},
   "source": [
    "### Create the Kernel"
   ]
  },
  {
   "cell_type": "code",
   "execution_count": 4,
   "metadata": {
    "polyglot_notebook": {
     "kernelName": "csharp"
    }
   },
   "outputs": [],
   "source": [
    "// Note: Added this because I am having problems with SSL certificate validation\n",
    "var handler = new HttpClientHandler();\n",
    "handler.CheckCertificateRevocationList = false;\n",
    "var httpClient = new HttpClient(handler);"
   ]
  },
  {
   "cell_type": "code",
   "execution_count": 5,
   "metadata": {
    "polyglot_notebook": {
     "kernelName": "csharp"
    }
   },
   "outputs": [],
   "source": [
    "#pragma warning disable SKEXP0010\n",
    "IKernelBuilder kernelBuilder = Kernel.CreateBuilder();\n",
    "kernelBuilder.AddAzureOpenAIChatCompletion(\n",
    "    deploymentName: deploymentName,\n",
    "    endpoint: endpoint,\n",
    "    apiKey: apiKey,\n",
    "    httpClient: httpClient)\n",
    ".AddAzureOpenAITextEmbeddingGeneration(adaDeploymentName, endpoint, apiKey, httpClient: httpClient)\n",
    ".Plugins.AddFromType<YouTubePlugin>(\"YouTube\");\n",
    "\n",
    "Kernel kernel= kernelBuilder.Build();\n",
    "\n",
    "// Enable planning\n",
    "AzureOpenAIPromptExecutionSettings openAIPromptExecutionSettings = new() \n",
    "{\n",
    "    FunctionChoiceBehavior = FunctionChoiceBehavior.Auto()\n",
    "};\n",
    "var chatCompletionService = kernel.GetRequiredService<IChatCompletionService>();"
   ]
  },
  {
   "cell_type": "markdown",
   "metadata": {},
   "source": [
    "### Use the plugin in a chat"
   ]
  },
  {
   "cell_type": "code",
   "execution_count": 6,
   "metadata": {
    "polyglot_notebook": {
     "kernelName": "csharp"
    }
   },
   "outputs": [
    {
     "ename": "Error",
     "evalue": "Input request cancelled",
     "output_type": "error",
     "traceback": [
      "Input request cancelled"
     ]
    },
    {
     "ename": "Error",
     "evalue": "System.Exception: Input request cancelled\n   at Microsoft.DotNet.Interactive.Kernel.GetInputAsync(String prompt, Boolean isPassword, String typeHint) in D:\\a\\_work\\1\\s\\src\\Microsoft.DotNet.Interactive\\Kernel.Static.cs:line 92\n   at Microsoft.DotNet.Interactive.Kernel.GetInputAsync(String prompt, String typeHint) in D:\\a\\_work\\1\\s\\src\\Microsoft.DotNet.Interactive\\Kernel.Static.cs:line 45\n   at Submission#6.<<Initialize>>d__0.MoveNext()\n--- End of stack trace from previous location ---\n   at Microsoft.CodeAnalysis.Scripting.ScriptExecutionState.RunSubmissionsAsync[TResult](ImmutableArray`1 precedingExecutors, Func`2 currentExecutor, StrongBox`1 exceptionHolderOpt, Func`2 catchExceptionOpt, CancellationToken cancellationToken)",
     "output_type": "error",
     "traceback": [
      "System.Exception: Input request cancelled\n",
      "   at Microsoft.DotNet.Interactive.Kernel.GetInputAsync(String prompt, Boolean isPassword, String typeHint) in D:\\a\\_work\\1\\s\\src\\Microsoft.DotNet.Interactive\\Kernel.Static.cs:line 92\n",
      "   at Microsoft.DotNet.Interactive.Kernel.GetInputAsync(String prompt, String typeHint) in D:\\a\\_work\\1\\s\\src\\Microsoft.DotNet.Interactive\\Kernel.Static.cs:line 45\n",
      "   at Submission#6.<<Initialize>>d__0.MoveNext()\n",
      "--- End of stack trace from previous location ---\n",
      "   at Microsoft.CodeAnalysis.Scripting.ScriptExecutionState.RunSubmissionsAsync[TResult](ImmutableArray`1 precedingExecutors, Func`2 currentExecutor, StrongBox`1 exceptionHolderOpt, Func`2 catchExceptionOpt, CancellationToken cancellationToken)"
     ]
    }
   ],
   "source": [
    "Dictionary<string, ChatHistory> chats = new()\n",
    "{\n",
    "    { \"user\", new() },\n",
    "};\n",
    "\n",
    "// Create a history store the conversation\n",
    "var history = chats[\"user\"];\n",
    "history.AddUserMessage(\"List the lamps\");\n",
    "string? userInput;\n",
    "while(true)\n",
    "{\n",
    "    userInput = await InteractiveKernel.GetInputAsync(\"User: \");\n",
    "    if (string.IsNullOrEmpty(userInput))\n",
    "    {\n",
    "        break;\n",
    "    }\n",
    "    history.AddUserMessage(userInput);\n",
    "    var result = await chatCompletionService.GetChatMessageContentAsync(\n",
    "        history,\n",
    "        executionSettings: openAIPromptExecutionSettings,\n",
    "        kernel: kernel,\n",
    "        cancellationToken: CancellationToken.None);\n",
    "    history.AddMessage(result.Role, result.Content ?? string.Empty);\n",
    "    Console.WriteLine($\"Assistant: {result.Content}\");    \n",
    "}\n"
   ]
  }
 ],
 "metadata": {
  "kernelspec": {
   "display_name": ".NET (C#)",
   "language": "C#",
   "name": ".net-csharp"
  },
  "language_info": {
   "name": "polyglot-notebook"
  },
  "polyglot_notebook": {
   "kernelInfo": {
    "defaultKernelName": "csharp",
    "items": [
     {
      "aliases": [],
      "languageName": "csharp",
      "name": "csharp"
     }
    ]
   }
  }
 },
 "nbformat": 4,
 "nbformat_minor": 2
}
