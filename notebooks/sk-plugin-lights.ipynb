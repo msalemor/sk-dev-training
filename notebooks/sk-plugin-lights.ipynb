{
 "cells": [
  {
   "cell_type": "markdown",
   "metadata": {},
   "source": [
    "# SK Lights Plugin\n",
    "\n",
    "## Setup\n",
    "\n",
    "### Load required .NET packages and supporting constants, classes, etc."
   ]
  },
  {
   "cell_type": "code",
   "execution_count": null,
   "metadata": {
    "dotnet_interactive": {
     "language": "csharp"
    },
    "polyglot_notebook": {
     "kernelName": "csharp"
    }
   },
   "outputs": [],
   "source": [
    "#r \"nuget: dotenv.net\"\n",
    "#r \"nuget: Microsoft.SemanticKernel, 1.49.0\"\n",
    "#r \"nuget: Microsoft.SemanticKernel.Connectors.AzureOpenAI, 1.49.0\"\n",
    "\n",
    "#r \"nuget: dotenv.net\"\n",
    "\n",
    "using System;\n",
    "\n",
    "using System.IO;\n",
    "using System.Net.Http;\n",
    "using System.Text;\n",
    "using System.Text.RegularExpressions;\n",
    "using System.Text.Json;\n",
    "using System.Text.Json.Serialization;\n",
    "using Microsoft.SemanticKernel;\n",
    "using Microsoft.SemanticKernel.ChatCompletion;\n",
    "using Microsoft.SemanticKernel.Connectors.AzureOpenAI;\n",
    "using System.ComponentModel;\n",
    "using System.Threading;\n",
    "\n",
    "using dotenv.net;\n",
    "using InteractiveKernel = Microsoft.DotNet.Interactive.Kernel;\n",
    "\n",
    "#pragma warning disable CS8618,IDE0009,CA1051,CA1050,CA1707,CA2007,VSTHRD111,CS1591,RCS1110,CA5394,SKEXP0001,SKEXP0002,SKEXP0003\n",
    "#pragma warning disable SKEXP0004,SKEXP0010,SKEXP0011,SKEXP0012,SKEXP0020,SKEXP0021,SKEXP0022,SKEXP0023,SKEXP0024,SKEXP0025\n",
    "#pragma warning disable SKEXP0026,SKEXP0027,SKEXP0028,SKEXP0029,SKEXP0030,SKEXP0031,SKEXP0032,SKEXP0040,SKEXP0041,SKEXP0042,SKEXP0050,\n",
    "#pragma warning disable SKEXP0051,SKEXP0052,SKEXP0053,SKEXP0054,SKEXP0055,SKEXP0060,SKEXP0061,SKEXP0101,SKEXP0102\n"
   ]
  },
  {
   "cell_type": "markdown",
   "metadata": {},
   "source": [
    "### Read the API Key and endpoints from environment variables or the .env file"
   ]
  },
  {
   "cell_type": "code",
   "execution_count": null,
   "metadata": {
    "dotnet_interactive": {
     "language": "csharp"
    },
    "polyglot_notebook": {
     "kernelName": "csharp"
    }
   },
   "outputs": [],
   "source": [
    "// Load the .env file\n",
    "DotEnv.Load();\n",
    "\n",
    "// Get the OpenAI deployment name, endpoint, and key from the environment variables\n",
    "var deploymentName = Environment.GetEnvironmentVariable(\"GPT_OPENAI_DEPLOYMENT_NAME\");\n",
    "var endpoint = Environment.GetEnvironmentVariable(\"GPT_OPENAI_ENDPOINT\");\n",
    "var apiKey = Environment.GetEnvironmentVariable(\"GPT_OPENAI_KEY\");\n",
    "var pg_conn_str = Environment.GetEnvironmentVariable(\"PG_CONN_STR\");\n",
    "var adaDeploymentName = Environment.GetEnvironmentVariable(\"GPT_EMBEDDING_MODEL\");"
   ]
  },
  {
   "cell_type": "markdown",
   "metadata": {},
   "source": [
    "### Define the lights plugin"
   ]
  },
  {
   "cell_type": "code",
   "execution_count": null,
   "metadata": {
    "polyglot_notebook": {
     "kernelName": "csharp"
    }
   },
   "outputs": [],
   "source": [
    "class LightsPlugin\n",
    "{\n",
    "   // Mock data for the lights\n",
    "   private readonly List<LightModel> lights = new()\n",
    "   {\n",
    "      new LightModel { Id = 1, Name = \"Table Lamp\", IsOn = false, Brightness = 100, Hex = \"FF0000\" },\n",
    "      new LightModel { Id = 2, Name = \"Porch light\", IsOn = false, Brightness = 50, Hex = \"00FF00\" },\n",
    "      new LightModel { Id = 3, Name = \"Chandelier\", IsOn = true, Brightness = 75, Hex = \"0000FF\" }\n",
    "   };\n",
    "\n",
    "   [KernelFunction(\"get_lights\")]\n",
    "   [Description(\"Gets a list of lights and their current state\")]\n",
    "   public async Task<List<LightModel>> GetLightsAsync()\n",
    "   {\n",
    "      return lights;\n",
    "   }\n",
    "\n",
    "   [KernelFunction(\"get_state\")]\n",
    "   [Description(\"Gets the state of a particular light\")]\n",
    "   public async Task<LightModel?> GetStateAsync([Description(\"The ID of the light\")] int id)\n",
    "   {\n",
    "      // Get the state of the light with the specified ID\n",
    "      return lights.FirstOrDefault(light => light.Id == id);\n",
    "   }\n",
    "\n",
    "   [KernelFunction(\"change_state\")]\n",
    "   [Description(\"Changes the state of the light\")]\n",
    "   public async Task<LightModel?> ChangeStateAsync(int id, LightModel LightModel)\n",
    "   {\n",
    "      var light = lights.FirstOrDefault(light => light.Id == id);\n",
    "\n",
    "      if (light == null)\n",
    "      {\n",
    "         return null;\n",
    "      }\n",
    "\n",
    "      // Update the light with the new state\n",
    "      light.IsOn = LightModel.IsOn;\n",
    "      light.Brightness = LightModel.Brightness;\n",
    "      light.Hex = LightModel.Hex;\n",
    "\n",
    "      return light;\n",
    "   }\n",
    "}\n",
    "\n",
    "public class LightModel\n",
    "{\n",
    "   [JsonPropertyName(\"id\")]\n",
    "   public int Id { get; set; }\n",
    "\n",
    "   [JsonPropertyName(\"name\")]\n",
    "   public string Name { get; set; }\n",
    "\n",
    "   [JsonPropertyName(\"is_on\")]\n",
    "   public bool? IsOn { get; set; }\n",
    "\n",
    "   [JsonPropertyName(\"brightness\")]\n",
    "   public byte? Brightness { get; set; }\n",
    "\n",
    "   [JsonPropertyName(\"hex\")]\n",
    "   public string? Hex { get; set; }\n",
    "}"
   ]
  },
  {
   "cell_type": "markdown",
   "metadata": {},
   "source": [
    "### Create the Kernel"
   ]
  },
  {
   "cell_type": "code",
   "execution_count": null,
   "metadata": {
    "polyglot_notebook": {
     "kernelName": "csharp"
    }
   },
   "outputs": [],
   "source": [
    "// Note: Added this because I am having problems with SSL certificate validation\n",
    "var handler = new HttpClientHandler();\n",
    "handler.CheckCertificateRevocationList = false;\n",
    "var httpClient = new HttpClient(handler);"
   ]
  },
  {
   "cell_type": "code",
   "execution_count": null,
   "metadata": {
    "polyglot_notebook": {
     "kernelName": "csharp"
    }
   },
   "outputs": [],
   "source": [
    "#pragma warning disable SKEXP0010\n",
    "IKernelBuilder kernelBuilder = Kernel.CreateBuilder();\n",
    "kernelBuilder.AddAzureOpenAIChatCompletion(\n",
    "    deploymentName: deploymentName,\n",
    "    endpoint: endpoint,\n",
    "    apiKey: apiKey,\n",
    "    httpClient: httpClient)\n",
    ".AddAzureOpenAITextEmbeddingGeneration(adaDeploymentName, endpoint, apiKey, httpClient: httpClient)\n",
    ".Plugins.AddFromType<LightsPlugin>(\"Lights\");\n",
    "\n",
    "Kernel kernel= kernelBuilder.Build();\n",
    "\n",
    "// Enable planning\n",
    "AzureOpenAIPromptExecutionSettings openAIPromptExecutionSettings = new() \n",
    "{\n",
    "    FunctionChoiceBehavior = FunctionChoiceBehavior.Auto()\n",
    "};\n",
    "var chatCompletionService = kernel.GetRequiredService<IChatCompletionService>();"
   ]
  },
  {
   "cell_type": "markdown",
   "metadata": {},
   "source": [
    "### Use the plugin in a chat"
   ]
  },
  {
   "cell_type": "code",
   "execution_count": null,
   "metadata": {
    "polyglot_notebook": {
     "kernelName": "csharp"
    }
   },
   "outputs": [],
   "source": [
    "Dictionary<string, ChatHistory> chats = new()\n",
    "{\n",
    "    { \"user\", new() },\n",
    "};\n",
    "\n",
    "// Create a history store the conversation\n",
    "var history = chats[\"user\"];\n",
    "\n",
    "history.AddUserMessage(\"List the lamps\");\n",
    "\n",
    "// Get the response from the AI\n",
    "var result = await chatCompletionService.GetChatMessageContentAsync(\n",
    "   history,\n",
    "   executionSettings: openAIPromptExecutionSettings,\n",
    "   kernel: kernel);\n",
    "\n",
    "// Print the results\n",
    "Console.WriteLine(\"Assistant > \" + result.Content);\n",
    "\n",
    "// Add the message from the agent to the chat history\n",
    "history.AddAssistantMessage(result.Content);\n",
    "\n",
    "history.AddUserMessage(\"Turn on the table lamp and list the lamps\");\n",
    "result = await chatCompletionService.GetChatMessageContentAsync(\n",
    "   history,\n",
    "   executionSettings: openAIPromptExecutionSettings,\n",
    "   kernel: kernel);\n",
    "\n",
    "// Print the results\n",
    "Console.WriteLine(\"Assistant > \" + result.Content);\n",
    "\n",
    "// Add the message from the agent to the chat history\n",
    "history.AddAssistantMessage(result.Content);\n"
   ]
  }
 ],
 "metadata": {
  "kernelspec": {
   "display_name": ".NET (C#)",
   "language": "C#",
   "name": ".net-csharp"
  },
  "language_info": {
   "name": "polyglot-notebook"
  },
  "polyglot_notebook": {
   "kernelInfo": {
    "defaultKernelName": "csharp",
    "items": [
     {
      "aliases": [],
      "languageName": "csharp",
      "name": "csharp"
     }
    ]
   }
  }
 },
 "nbformat": 4,
 "nbformat_minor": 2
}
