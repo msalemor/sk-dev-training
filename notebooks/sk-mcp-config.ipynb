{
 "cells": [
  {
   "cell_type": "markdown",
   "metadata": {},
   "source": [
    "# SK GitHub MCP Server Demo\n",
    "\n",
    "## Setup\n",
    "\n",
    "### Load required .NET packages and supporting constants, classes, etc."
   ]
  },
  {
   "cell_type": "code",
   "execution_count": null,
   "metadata": {
    "dotnet_interactive": {
     "language": "csharp"
    },
    "polyglot_notebook": {
     "kernelName": "csharp"
    }
   },
   "outputs": [
    {
     "data": {
      "text/html": [
       "<div><div></div><div></div><div><strong>Installed Packages</strong><ul><li><span>dotenv.net, 3.2.1</span></li><li><span>Microsoft.SemanticKernel, 1.49.0</span></li><li><span>Microsoft.SemanticKernel.Agents.Core, 1.49.0</span></li><li><span>Microsoft.SemanticKernel.Connectors.AzureOpenAI, 1.49.0</span></li><li><span>ModelContextProtocol, 0.2.0-preview.1</span></li></ul></div></div>"
      ]
     },
     "metadata": {},
     "output_type": "display_data"
    }
   ],
   "source": [
    "#r \"nuget: dotenv.net\"\n",
    "#r \"nuget: Microsoft.SemanticKernel, 1.49.0\"\n",
    "#r \"nuget: Microsoft.SemanticKernel.Connectors.sAzureOpenAI, 1.49.0\"\n",
    "#r \"nuget: Microsoft.SemanticKernel.Agents.Core, 1.49.0\"\n",
    "#r \"nuget: ModelContextProtocol, 0.2.0-preview.1\"\n",
    "#r \"nuget: dotenv.net\"\n",
    "\n",
    "using System;\n",
    "using Microsoft.SemanticKernel;\n",
    "using Microsoft.SemanticKernel.Connectors.AzureOpenAI;\n",
    "using Microsoft.SemanticKernel.Agents;\n",
    "using ModelContextProtocol.Client;\n",
    "\n",
    "using dotenv.net;\n",
    "\n",
    "\n",
    "#pragma warning disable CS8618,IDE0009,CA1051,CA1050,CA1707,CA2007,VSTHRD111,CS1591,RCS1110,CA5394,SKEXP0001,SKEXP0002,SKEXP0003\n",
    "#pragma warning disable SKEXP0004,SKEXP0010,SKEXP0011,SKEXP0012,SKEXP0020,SKEXP0021,SKEXP0022,SKEXP0023,SKEXP0024,SKEXP0025\n",
    "#pragma warning disable SKEXP0026,SKEXP0027,SKEXP0028,SKEXP0029,SKEXP0030,SKEXP0031,SKEXP0032,SKEXP0040,SKEXP0041,SKEXP0042,SKEXP0050,\n",
    "#pragma warning disable SKEXP0051,SKEXP0052,SKEXP0053,SKEXP0054,SKEXP0055,SKEXP0060,SKEXP0061,SKEXP0101,SKEXP0102"
   ]
  },
  {
   "cell_type": "markdown",
   "metadata": {},
   "source": [
    "### Start the Github MCP Server"
   ]
  },
  {
   "cell_type": "code",
   "execution_count": 2,
   "metadata": {
    "polyglot_notebook": {
     "kernelName": "csharp"
    }
   },
   "outputs": [],
   "source": [
    "var projectPath = @\"/home/alex/github/msalemor/sk-dev-training/notebooks/mcp/mcp1/server\";\n",
    "\n",
    "var mcpClient = await McpClientFactory.CreateAsync(\n",
    "    new StdioClientTransport(new () {\n",
    "        Name = \"GitHub\",\n",
    "        Command = \"npx\",\n",
    "        Arguments = [\"@modelcontextprotocol/server-github\"],\n",
    "    })\n",
    ");"
   ]
  },
  {
   "cell_type": "markdown",
   "metadata": {},
   "source": [
    "### List all available tools in the MCP server"
   ]
  },
  {
   "cell_type": "code",
   "execution_count": 3,
   "metadata": {
    "polyglot_notebook": {
     "kernelName": "csharp"
    }
   },
   "outputs": [
    {
     "name": "stdout",
     "output_type": "stream",
     "text": [
      "create_or_update_file: Create or update a single file in a GitHub repository\n",
      "search_repositories: Search for GitHub repositories\n",
      "create_repository: Create a new GitHub repository in your account\n",
      "get_file_contents: Get the contents of a file or directory from a GitHub repository\n",
      "push_files: Push multiple files to a GitHub repository in a single commit\n",
      "create_issue: Create a new issue in a GitHub repository\n",
      "create_pull_request: Create a new pull request in a GitHub repository\n",
      "fork_repository: Fork a GitHub repository to your account or specified organization\n",
      "create_branch: Create a new branch in a GitHub repository\n",
      "list_commits: Get list of commits of a branch in a GitHub repository\n",
      "list_issues: List issues in a GitHub repository with filtering options\n",
      "update_issue: Update an existing issue in a GitHub repository\n",
      "add_issue_comment: Add a comment to an existing issue\n",
      "search_code: Search for code across GitHub repositories\n",
      "search_issues: Search for issues and pull requests across GitHub repositories\n",
      "search_users: Search for users on GitHub\n",
      "get_issue: Get details of a specific issue in a GitHub repository.\n",
      "get_pull_request: Get details of a specific pull request\n",
      "list_pull_requests: List and filter repository pull requests\n",
      "create_pull_request_review: Create a review on a pull request\n",
      "merge_pull_request: Merge a pull request\n",
      "get_pull_request_files: Get the list of files changed in a pull request\n",
      "get_pull_request_status: Get the combined status of all status checks for a pull request\n",
      "update_pull_request_branch: Update a pull request branch with the latest changes from the base branch\n",
      "get_pull_request_comments: Get the review comments on a pull request\n",
      "get_pull_request_reviews: Get the reviews on a pull request\n"
     ]
    }
   ],
   "source": [
    "var tools = await mcpClient.ListToolsAsync().ConfigureAwait(false);\n",
    "foreach (var tool in tools)\n",
    "{\n",
    "    Console.WriteLine($\"{tool.Name}: {tool.Description}\");\n",
    "}"
   ]
  },
  {
   "cell_type": "markdown",
   "metadata": {},
   "source": [
    "### Read the API Key and endpoints from environment variables or the .env file"
   ]
  },
  {
   "cell_type": "code",
   "execution_count": 4,
   "metadata": {
    "dotnet_interactive": {
     "language": "csharp"
    },
    "polyglot_notebook": {
     "kernelName": "csharp"
    }
   },
   "outputs": [],
   "source": [
    "// Load the .env file\n",
    "DotEnv.Load();\n",
    "\n",
    "// Get the OpenAI deployment name, endpoint, and key from the environment variables\n",
    "var deploymentName = Environment.GetEnvironmentVariable(\"GPT_OPENAI_DEPLOYMENT_NAME\");\n",
    "var endpoint = Environment.GetEnvironmentVariable(\"GPT_OPENAI_ENDPOINT\");\n",
    "var apiKey = Environment.GetEnvironmentVariable(\"GPT_OPENAI_KEY\");"
   ]
  },
  {
   "cell_type": "markdown",
   "metadata": {},
   "source": [
    "### Configure the Kernel and memory"
   ]
  },
  {
   "cell_type": "code",
   "execution_count": 5,
   "metadata": {
    "polyglot_notebook": {
     "kernelName": "csharp"
    }
   },
   "outputs": [],
   "source": [
    "// Note: Added this because I am having problems with SSL certificate validation\n",
    "var handler = new HttpClientHandler();\n",
    "handler.CheckCertificateRevocationList = false;\n",
    "var httpClient = new HttpClient(handler);"
   ]
  },
  {
   "cell_type": "code",
   "execution_count": 6,
   "metadata": {
    "polyglot_notebook": {
     "kernelName": "csharp"
    }
   },
   "outputs": [],
   "source": [
    "#pragma warning disable SKEXP0010\n",
    "var kernelBuilder = Kernel.CreateBuilder()\n",
    "    .AddAzureOpenAIChatCompletion(\n",
    "        deploymentName: deploymentName,\n",
    "        endpoint: endpoint,\n",
    "        apiKey: apiKey,\n",
    "        httpClient: httpClient);\n",
    "Kernel kernel = kernelBuilder.Build();"
   ]
  },
  {
   "cell_type": "markdown",
   "metadata": {},
   "source": [
    "### Add the MCP server as an SK plugin and use it automatically"
   ]
  },
  {
   "cell_type": "code",
   "execution_count": 7,
   "metadata": {
    "polyglot_notebook": {
     "kernelName": "csharp"
    }
   },
   "outputs": [],
   "source": [
    "#pragma warning disable SKEXP0001\n",
    "kernel.Plugins.AddFromFunctions(\"GitHub\", tools.Select(aiFunction => aiFunction.AsKernelFunction()));\n",
    "\n",
    "#pragma warning disable SKEXP0001\n",
    "AzureOpenAIPromptExecutionSettings executionSettings = new()\n",
    "{\n",
    "    Temperature = 0,\n",
    "    FunctionChoiceBehavior = FunctionChoiceBehavior.Auto(options: new() { RetainArgumentTypes = true })\n",
    "};"
   ]
  },
  {
   "cell_type": "markdown",
   "metadata": {},
   "source": [
    "### Test the MCP server in a prompt"
   ]
  },
  {
   "cell_type": "code",
   "execution_count": 8,
   "metadata": {
    "polyglot_notebook": {
     "kernelName": "csharp"
    }
   },
   "outputs": [
    {
     "name": "stdout",
     "output_type": "stream",
     "text": [
      "\n",
      "\n",
      "Summarize the last four commits to the microsoft/semantic-kernel repository?\n",
      "Here are the summaries of the last four commits to the `microsoft/semantic-kernel` repository:\n",
      "\n",
      "1. **Commit SHA:** [5e488d2](https://github.com/microsoft/semantic-kernel/commit/5e488d2b7f6935e2b81b14c81cd2680608c899ed)  \n",
      "   **Author:** westey  \n",
      "   **Date:** 2025-05-22  \n",
      "   **Message:** Bumped the NuGet package version to 1.54.0. This update ensures the repository aligns with the latest versioning standards.  \n",
      "\n",
      "2. **Commit SHA:** [cecee4c](https://github.com/microsoft/semantic-kernel/commit/cecee4cb6a191a1f1833e9248fdf7738bf2556a5)  \n",
      "   **Author:** Roger Barreto  \n",
      "   **Date:** 2025-05-22  \n",
      "   **Message:** Fixed MCP behavior for `AIFunction.AsKernelFunction()` and ensured `FunctionChoiceBehavior` works correctly with `IChatClients`. This commit addresses issues #12209 and #12217.\n",
      "\n",
      "3. **Commit SHA:** [912a7bb](https://github.com/microsoft/semantic-kernel/commit/912a7bb0222e34ab703209c5402c9ff52e96761d)  \n",
      "   **Author:** SergeyMenshykh  \n",
      "   **Date:** 2025-05-22  \n",
      "   **Message:** Added a `Summary` property to the `OpenApiOperation` model class, enabling access to this property via function metadata.\n",
      "\n",
      "4. **Commit SHA:** [8a68cd4](https://github.com/microsoft/semantic-kernel/commit/8a68cd4f6f6a93603eb7e78f70a720204f1c9365)  \n",
      "   **Author:** westey  \n",
      "   **Date:** 2025-05-22  \n",
      "   **Message:** Removed Kusto and DuckDB from the codebase as part of cleanup efforts. This change is related to issue #8540.\n",
      "\n",
      "Let me know if you'd like more details about any of these commits!\n"
     ]
    }
   ],
   "source": [
    "// Test using GitHub tools\n",
    "var prompt = \"Summarize the last four commits to the microsoft/semantic-kernel repository?\";\n",
    "var result = await kernel.InvokePromptAsync(prompt, new(executionSettings)).ConfigureAwait(false);\n",
    "Console.WriteLine($\"\\n\\n{prompt}\\n{result}\");"
   ]
  }
 ],
 "metadata": {
  "kernelspec": {
   "display_name": ".NET (C#)",
   "language": "C#",
   "name": ".net-csharp"
  },
  "language_info": {
   "name": "polyglot-notebook"
  },
  "polyglot_notebook": {
   "kernelInfo": {
    "defaultKernelName": "csharp",
    "items": [
     {
      "aliases": [],
      "languageName": "csharp",
      "name": "csharp"
     }
    ]
   }
  }
 },
 "nbformat": 4,
 "nbformat_minor": 2
}
