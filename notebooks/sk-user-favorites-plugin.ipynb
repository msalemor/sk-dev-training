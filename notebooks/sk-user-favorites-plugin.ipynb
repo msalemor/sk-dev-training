{
 "cells": [
  {
   "cell_type": "markdown",
   "metadata": {},
   "source": [
    "# SK RAG Plugin\n",
    "\n",
    "## Setup\n",
    "\n",
    "### Load required .NET packages and supporting constants, classes, etc."
   ]
  },
  {
   "cell_type": "code",
   "execution_count": null,
   "metadata": {
    "dotnet_interactive": {
     "language": "csharp"
    },
    "polyglot_notebook": {
     "kernelName": "csharp"
    }
   },
   "outputs": [],
   "source": [
    "#r \"nuget: dotenv.net\"\n",
    "#r \"nuget: Microsoft.SemanticKernel, 1.49.0\"\n",
    "#r \"nuget: Microsoft.SemanticKernel.Connectors.AzureOpenAI, 1.49.0\"\n",
    "\n",
    "#r \"nuget: dotenv.net\"\n",
    "\n",
    "using System;\n",
    "\n",
    "using System.IO;\n",
    "using System.Net.Http;\n",
    "using System.Text;\n",
    "using System.Text.RegularExpressions;\n",
    "using System.Text.Json;\n",
    "using System.Text.Json.Serialization;\n",
    "using Microsoft.SemanticKernel;\n",
    "using Microsoft.SemanticKernel.Connectors.AzureOpenAI;\n",
    "using System.ComponentModel;\n",
    "using System.Threading;\n",
    "\n",
    "using dotenv.net;\n",
    "using InteractiveKernel = Microsoft.DotNet.Interactive.Kernel;\n",
    "\n",
    "#!import Models/Models.cs\n",
    "\n",
    "const string MemoryCollectionName = \"LearningsCollection\";\n",
    "\n",
    "#pragma warning disable CS8618,IDE0009,CA1051,CA1050,CA1707,CA2007,VSTHRD111,CS1591,RCS1110,CA5394,SKEXP0001,SKEXP0002,SKEXP0003\n",
    "#pragma warning disable SKEXP0004,SKEXP0010,SKEXP0011,SKEXP0012,SKEXP0020,SKEXP0021,SKEXP0022,SKEXP0023,SKEXP0024,SKEXP0025\n",
    "#pragma warning disable SKEXP0026,SKEXP0027,SKEXP0028,SKEXP0029,SKEXP0030,SKEXP0031,SKEXP0032,SKEXP0040,SKEXP0041,SKEXP0042,SKEXP0050,\n",
    "#pragma warning disable SKEXP0051,SKEXP0052,SKEXP0053,SKEXP0054,SKEXP0055,SKEXP0060,SKEXP0061,SKEXP0101,SKEXP0102\n"
   ]
  },
  {
   "cell_type": "markdown",
   "metadata": {},
   "source": [
    "### Read the API Key and endpoints from environment variables or the .env file"
   ]
  },
  {
   "cell_type": "code",
   "execution_count": null,
   "metadata": {
    "dotnet_interactive": {
     "language": "csharp"
    },
    "polyglot_notebook": {
     "kernelName": "csharp"
    }
   },
   "outputs": [],
   "source": [
    "// Load the .env file\n",
    "DotEnv.Load();\n",
    "\n",
    "// Get the OpenAI deployment name, endpoint, and key from the environment variables\n",
    "var deploymentName = Environment.GetEnvironmentVariable(\"GPT_OPENAI_DEPLOYMENT_NAME\");\n",
    "var endpoint = Environment.GetEnvironmentVariable(\"GPT_OPENAI_ENDPOINT\");\n",
    "var apiKey = Environment.GetEnvironmentVariable(\"GPT_OPENAI_KEY\");\n",
    "var pg_conn_str = Environment.GetEnvironmentVariable(\"PG_CONN_STR\");\n",
    "var adaDeploymentName = Environment.GetEnvironmentVariable(\"GPT_EMBEDDING_MODEL\");"
   ]
  },
  {
   "cell_type": "markdown",
   "metadata": {},
   "source": [
    "### Configure the Kernel and memory"
   ]
  },
  {
   "cell_type": "code",
   "execution_count": null,
   "metadata": {
    "polyglot_notebook": {
     "kernelName": "csharp"
    }
   },
   "outputs": [],
   "source": [
    "// Note: Added this because I am having problems with SSL certificate validation\n",
    "var handler = new HttpClientHandler();\n",
    "handler.CheckCertificateRevocationList = false;\n",
    "var httpClient = new HttpClient(handler);"
   ]
  },
  {
   "cell_type": "code",
   "execution_count": null,
   "metadata": {
    "polyglot_notebook": {
     "kernelName": "csharp"
    }
   },
   "outputs": [],
   "source": [
    "[JsonConverter(typeof(JsonStringEnumConverter))]\n",
    "public enum AnimalType\n",
    "{\n",
    "    [Description(\"These warm-blooded animals have hair or fur, give birth to live young, and produce milk to feed their offspring. Examples include dogs, tigers, and elephants.\")]\n",
    "    Mammals,\n",
    "    [Description(\"Feathered creatures that lay eggs and have beaks, wings, and hollow bones. They are adapted for flight and include species like eagles and sparrows.\")]\n",
    "    Birds,\n",
    "    [Description(\"Cold-blooded animals with scales, lay eggs, and often live on land. Snakes, lizards, and turtles fall into this category.\")]\n",
    "    Reptiles,\n",
    "    [Description(\"These animals can live both in water and on land. They typically start life as aquatic larvae (like tadpoles) and later transform into adults.Frogs and salamanders are examples.\")]\n",
    "    Amphibians,\n",
    "    [Description(\"Aquatic vertebrates that breathe through gills and have scales.They come in various shapes and sizes, from tiny minnows to massive sharks.\")]\n",
    "    Fish,\n",
    "    [Description(\"The most diverse group, lacking backbones. Insects (like ants and butterflies) and arachnids (such as spiders) are common examples.\")]\n",
    "    Invertebrates\n",
    "}"
   ]
  },
  {
   "cell_type": "code",
   "execution_count": null,
   "metadata": {
    "polyglot_notebook": {
     "kernelName": "csharp"
    }
   },
   "outputs": [],
   "source": [
    "public class UserFavorites\n",
    "{\n",
    "    [KernelFunction]\n",
    "    [Description(\"Returns the favorite color for the user.\")]\n",
    "    public string GetFavoriteColor([Description(\"Email address of the user.\")] string email)\n",
    "    {\n",
    "        return email.Equals(\"bob@contoso.com\", StringComparison.OrdinalIgnoreCase) ? \"Green\" : \"Blue\";\n",
    "    }\n",
    "\n",
    "    [KernelFunction]\n",
    "    [Description(\"Returns the favorite animal of the specified type for the user.\")]\n",
    "    public string GetFavoriteAnimal([Description(\"Email address of the user.\")] string email, [Description(\"Type of animal.\")] AnimalType animalType)\n",
    "    {\n",
    "        if (email.Equals(\"bob@contoso.com\", StringComparison.OrdinalIgnoreCase))\n",
    "        {\n",
    "            return GetBobsFavoriteAnimal(animalType);\n",
    "        }\n",
    "\n",
    "        return GetDefaultFavoriteAnimal(animalType);\n",
    "    }\n",
    "\n",
    "    private string GetBobsFavoriteAnimal(AnimalType animalType) => animalType switch\n",
    "    {\n",
    "        AnimalType.Mammals => \"Dog\",\n",
    "        AnimalType.Birds => \"Sparrow\",\n",
    "        AnimalType.Reptiles => \"Lizard\",\n",
    "        AnimalType.Amphibians => \"Salamander\",\n",
    "        AnimalType.Fish => \"Tuna\",\n",
    "        AnimalType.Invertebrates => \"Spider\",\n",
    "        _ => throw new ArgumentOutOfRangeException(nameof(animalType), $\"Unexpected animal type: {animalType}\"),\n",
    "    };\n",
    "\n",
    "    private string GetDefaultFavoriteAnimal(AnimalType animalType) => animalType switch\n",
    "    {\n",
    "        AnimalType.Mammals => \"Horse\",\n",
    "        AnimalType.Birds => \"Eagle\",\n",
    "        AnimalType.Reptiles => \"Snake\",\n",
    "        AnimalType.Amphibians => \"Frog\",\n",
    "        AnimalType.Fish => \"Shark\",\n",
    "        AnimalType.Invertebrates => \"Ant\",\n",
    "        _ => throw new ArgumentOutOfRangeException(nameof(animalType), $\"Unexpected animal type: {animalType}\"),\n",
    "    };\n",
    "}"
   ]
  },
  {
   "cell_type": "code",
   "execution_count": null,
   "metadata": {
    "polyglot_notebook": {
     "kernelName": "csharp"
    }
   },
   "outputs": [],
   "source": [
    "public delegate bool IncludeKernelParameter(KernelParameterMetadata parameter);\n",
    "\n",
    "public delegate void UpdateKernelArguments(KernelFunctionMetadata function, KernelArguments arguments);"
   ]
  },
  {
   "cell_type": "code",
   "execution_count": null,
   "metadata": {
    "polyglot_notebook": {
     "kernelName": "csharp"
    }
   },
   "outputs": [],
   "source": [
    "private static List<KernelParameterMetadata> CreateParameterMetadataWithParameters(IReadOnlyList<KernelParameterMetadata> parameters, IncludeKernelParameter includeKernelParameter)\n",
    "{\n",
    "    List<KernelParameterMetadata>? parametersToInclude = new();\n",
    "    foreach (var parameter in parameters)\n",
    "    {\n",
    "        if (includeKernelParameter(parameter))\n",
    "        {\n",
    "            parametersToInclude.Add(parameter);\n",
    "        }\n",
    "    }\n",
    "    return parametersToInclude;\n",
    "}"
   ]
  },
  {
   "cell_type": "code",
   "execution_count": null,
   "metadata": {
    "polyglot_notebook": {
     "kernelName": "csharp"
    }
   },
   "outputs": [],
   "source": [
    "static KernelFunction CreateFunctionWithParameters(KernelFunction function, IncludeKernelParameter includeKernelParameter, UpdateKernelArguments updateKernelArguments)\n",
    "{\n",
    "    var method = (Kernel kernel, KernelFunction currentFunction, KernelArguments arguments, CancellationToken cancellationToken) =>\n",
    "    {\n",
    "        updateKernelArguments(currentFunction.Metadata, arguments);\n",
    "        return function.InvokeAsync(kernel, arguments, cancellationToken);\n",
    "    };\n",
    "\n",
    "    var options = new KernelFunctionFromMethodOptions()\n",
    "    {\n",
    "        FunctionName = function.Name,\n",
    "        Description = function.Description,\n",
    "        Parameters = CreateParameterMetadataWithParameters(function.Metadata.Parameters, includeKernelParameter),\n",
    "        ReturnParameter = function.Metadata.ReturnParameter,\n",
    "    };\n",
    "\n",
    "    return KernelFunctionFactory.CreateFromMethod(method, options);\n",
    "}"
   ]
  },
  {
   "cell_type": "code",
   "execution_count": null,
   "metadata": {
    "polyglot_notebook": {
     "kernelName": "csharp"
    }
   },
   "outputs": [],
   "source": [
    "public static KernelPlugin CreatePluginWithParameters(KernelPlugin plugin, IncludeKernelParameter includeKernelParameter, UpdateKernelArguments updateKernelArguments)\n",
    "{\n",
    "    List<KernelFunction>? functions = new();\n",
    "\n",
    "    foreach (KernelFunction function in plugin)\n",
    "    {\n",
    "        functions.Add(CreateFunctionWithParameters(function, includeKernelParameter, updateKernelArguments));\n",
    "    }\n",
    "\n",
    "    return KernelPluginFactory.CreateFromFunctions(plugin.Name, plugin.Description, functions);\n",
    "}"
   ]
  },
  {
   "cell_type": "code",
   "execution_count": null,
   "metadata": {
    "polyglot_notebook": {
     "kernelName": "csharp"
    }
   },
   "outputs": [],
   "source": [
    "KernelPlugin plugin = KernelPluginFactory.CreateFromType<UserFavorites>();\n",
    "var transformedPlugin = CreatePluginWithParameters(\n",
    "plugin,\n",
    "(KernelParameterMetadata parameter) => parameter.Name != \"email\",\n",
    "    (KernelFunctionMetadata function, KernelArguments arguments) => arguments.Add(\"email\", \"bob@contoso.com\"));"
   ]
  },
  {
   "cell_type": "code",
   "execution_count": null,
   "metadata": {
    "polyglot_notebook": {
     "kernelName": "csharp"
    }
   },
   "outputs": [],
   "source": [
    "KernelPlugin plugin = KernelPluginFactory.CreateFromType<UserFavorites>();\n",
    "        var transformedPlugin = CreatePluginWithParameters(\n",
    "        plugin,\n",
    "        (KernelParameterMetadata parameter) => parameter.Name != \"email\",\n",
    "            (KernelFunctionMetadata function, KernelArguments arguments) => arguments.Add(\"email\", \"bob@contoso.com\"));\n",
    "\n",
    "#pragma warning disable SKEXP0010\n",
    "IKernelBuilder kernelBuilder = Kernel.CreateBuilder();\n",
    "kernelBuilder.AddAzureOpenAIChatCompletion(\n",
    "    deploymentName: deploymentName,\n",
    "    endpoint: endpoint,\n",
    "    apiKey: apiKey,\n",
    "    httpClient: httpClient)\n",
    ".AddAzureOpenAITextEmbeddingGeneration(adaDeploymentName, endpoint, apiKey, httpClient: httpClient)\n",
    ".Plugins.Add(transformedPlugin);\n",
    "\n",
    "Kernel kernel= kernelBuilder.Build();"
   ]
  },
  {
   "cell_type": "code",
   "execution_count": null,
   "metadata": {
    "polyglot_notebook": {
     "kernelName": "csharp"
    }
   },
   "outputs": [],
   "source": [
    "AzureOpenAIPromptExecutionSettings settings = new() { FunctionChoiceBehavior = FunctionChoiceBehavior.Auto() };\n",
    "Console.WriteLine(await kernel.InvokePromptAsync(\"What color should my new car be?\", new(settings)));\n",
    "Console.WriteLine(await kernel.InvokePromptAsync(\"What color should I paint the fence?\", new(settings)));\n",
    "Console.WriteLine(await kernel.InvokePromptAsync(\"What is my favorite cold-blooded animal?\", new(settings)));\n",
    "Console.WriteLine(await kernel.InvokePromptAsync(\"What is my favorite marine animal?\", new(settings)));\n",
    "Console.WriteLine(await kernel.InvokePromptAsync(\"What is my favorite creepy crawly?\", new(settings)));\n",
    "Console.WriteLine(await kernel.InvokePromptAsync(\"What is my favorite four legged friend?\", new(settings)));\n",
    "Console.WriteLine(await kernel.InvokePromptAsync(\"I am going diving what animals would I like to see?\", new(settings)));"
   ]
  }
 ],
 "metadata": {
  "kernelspec": {
   "display_name": ".NET (C#)",
   "language": "C#",
   "name": ".net-csharp"
  },
  "language_info": {
   "name": "polyglot-notebook"
  },
  "polyglot_notebook": {
   "kernelInfo": {
    "defaultKernelName": "csharp",
    "items": [
     {
      "aliases": [],
      "languageName": "csharp",
      "name": "csharp"
     }
    ]
   }
  }
 },
 "nbformat": 4,
 "nbformat_minor": 2
}
